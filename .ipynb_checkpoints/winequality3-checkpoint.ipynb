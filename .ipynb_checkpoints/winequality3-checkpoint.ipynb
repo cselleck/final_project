{
 "cells": [
  {
   "cell_type": "code",
   "execution_count": null,
   "metadata": {},
   "outputs": [],
   "source": [
    "# Dependencies\n",
    "import pandas as pd\n",
    "import numpy as np\n",
    "import seaborn as sns\n",
    "%matplotlib inline\n",
    "import matplotlib.pyplot as plt\n",
    "from matplotlib import style\n",
    "import plotly.express as px\n",
    "import math\n",
    "import pickle\n",
    "\n",
    "# Algorithms\n",
    "\n",
    "from sklearn import model_selection\n",
    "from sklearn.linear_model import LogisticRegression\n",
    "from sklearn.ensemble import RandomForestClassifier\n",
    "from sklearn.tree import DecisionTreeClassifier\n",
    "from sklearn.naive_bayes import GaussianNB\n",
    "from sklearn.preprocessing import StandardScaler,LabelEncoder\n",
    "from sklearn.metrics import confusion_matrix,classification_report,accuracy_score,roc_curve,roc_auc_score\n",
    "from sklearn.model_selection import train_test_split,cross_val_score,GridSearchCV"
   ]
  },
  {
   "cell_type": "markdown",
   "metadata": {},
   "source": [
    "# Load the dataset"
   ]
  },
  {
   "cell_type": "code",
   "execution_count": null,
   "metadata": {},
   "outputs": [],
   "source": [
    "wine=pd.read_csv(\"winequality.csv\")\n",
    "wine.head()"
   ]
  },
  {
   "cell_type": "markdown",
   "metadata": {},
   "source": [
    "# Data Exploration"
   ]
  },
  {
   "cell_type": "code",
   "execution_count": null,
   "metadata": {},
   "outputs": [],
   "source": [
    "#Shape of the dataset\n",
    "wine.shape"
   ]
  },
  {
   "cell_type": "code",
   "execution_count": null,
   "metadata": {},
   "outputs": [],
   "source": [
    "# In the data there is no categorical variables to study but we have all numerical variables\n",
    "#11 of the features are floats, 1 is integers.\n",
    "wine.info()"
   ]
  },
  {
   "cell_type": "code",
   "execution_count": null,
   "metadata": {},
   "outputs": [],
   "source": [
    "#Number of unique values in this dataset\n",
    "\n",
    "\n",
    "for col in wine.columns.values:\n",
    " print(\"Number of unique values of {}:{}\".format(col,wine[col].nunique()))\n",
    "\n",
    "#The feature fixed acidity has more number of unique values and quality feature has less number of unique values ."
   ]
  },
  {
   "cell_type": "code",
   "execution_count": null,
   "metadata": {},
   "outputs": [],
   "source": [
    "#Describe the dataset to get a better idea on what's happening\n",
    "wine.describe(include='all')\n",
    "\n",
    "# chlorides - similar to residual sugar. Min - 0.012, max - 0.611\n",
    "# residual sugar - min - 0.9, max - 15. there is a huge differenceand explains the outliers.\n",
    "# fixed acidity ranges from 25% - 7.1 and 50% - 7.9. This could explain the huge number of outliers\n",
    "# citric acid - this looks uniformly distributed\n",
    "# free sulfur dioxide, total sulfur dioxide - not much difference\n",
    "\n",
    "# The mean is more than median (50th percentile) in all columns\n",
    "\n",
    "# There is a large difference in 75% percentile and max in residual sugar,free sulfur dioxide,total sulfur dioxide\n",
    "\n",
    "\n"
   ]
  },
  {
   "cell_type": "code",
   "execution_count": null,
   "metadata": {},
   "outputs": [],
   "source": [
    "#check null values present or not\n",
    "print(wine.isna().sum())"
   ]
  },
  {
   "cell_type": "code",
   "execution_count": null,
   "metadata": {},
   "outputs": [],
   "source": [
    "#quality has most values concentrated in the categories of 5,6,7\n",
    "#few observations concentrated in the categories of 4,8,3\n",
    "fig = px.histogram(wine,x='quality')\n",
    "fig.show()"
   ]
  },
  {
   "cell_type": "code",
   "execution_count": null,
   "metadata": {},
   "outputs": [],
   "source": [
    "#Here we see that fixed acidity does not give any specification to classify the quality.\n",
    "fig = plt.figure(figsize = (10,6))\n",
    "sns.barplot(x = 'quality', y = 'fixed acidity', data = wine)"
   ]
  },
  {
   "cell_type": "code",
   "execution_count": null,
   "metadata": {},
   "outputs": [],
   "source": [
    "#Here we see that as quality increases, volatile acidity decreases \n",
    "fig = plt.figure(figsize = (10,6))\n",
    "sns.barplot(x = 'quality', y = 'volatile acidity', data = wine)"
   ]
  },
  {
   "cell_type": "code",
   "execution_count": null,
   "metadata": {},
   "outputs": [],
   "source": [
    "#Citric acid goes higher as quality of the wine increases\n",
    "fig = plt.figure(figsize = (10,6))\n",
    "sns.barplot(x = 'quality', y = 'citric acid', data = wine)"
   ]
  },
  {
   "cell_type": "code",
   "execution_count": null,
   "metadata": {},
   "outputs": [],
   "source": [
    "# there is not much difference on impact of residual sugars on the quality of wine \n",
    "fig = plt.figure(figsize = (10,6))\n",
    "sns.barplot(x = 'quality', y = 'residual sugar', data = wine)"
   ]
  },
  {
   "cell_type": "code",
   "execution_count": null,
   "metadata": {},
   "outputs": [],
   "source": [
    "#Composition of chlorides decreases as the quality of the wine increases\n",
    "fig = plt.figure(figsize = (10,6))\n",
    "sns.barplot(x = 'quality', y = 'chlorides', data = wine)"
   ]
  },
  {
   "cell_type": "code",
   "execution_count": null,
   "metadata": {},
   "outputs": [],
   "source": [
    "fig = plt.figure(figsize = (10,6))\n",
    "sns.barplot(x = 'quality', y = 'free sulfur dioxide', data = wine)"
   ]
  },
  {
   "cell_type": "code",
   "execution_count": null,
   "metadata": {},
   "outputs": [],
   "source": [
    "fig = plt.figure(figsize = (10,6))\n",
    "sns.barplot(x = 'quality', y = 'total sulfur dioxide', data = wine)"
   ]
  },
  {
   "cell_type": "code",
   "execution_count": null,
   "metadata": {},
   "outputs": [],
   "source": [
    "#Sulphates level increases with the quality of wine\n",
    "fig = plt.figure(figsize = (10,6))\n",
    "sns.barplot(x = 'quality', y = 'sulphates', data = wine)"
   ]
  },
  {
   "cell_type": "code",
   "execution_count": null,
   "metadata": {},
   "outputs": [],
   "source": [
    "#Alcohol content increases as the quality of wine increases\n",
    "fig = plt.figure(figsize = (10,6))\n",
    "sns.barplot(x = 'quality', y = 'alcohol', data = wine)"
   ]
  },
  {
   "cell_type": "code",
   "execution_count": null,
   "metadata": {},
   "outputs": [],
   "source": [
    "#Make classification for the response variable.\n",
    "\n",
    "#Dividing wine as good and bad by giving the limit for the quality\n",
    "bins=(2,6.5,8)\n",
    "group=['Bad','Good']\n",
    "wine['quality']=pd.cut(wine['quality'],bins=bins,labels=group)\n",
    "\n",
    "#Assigning labels to our quality variable\n",
    "label_quality=LabelEncoder()\n",
    "\n",
    "#Bad becomes 0 and good becomes 1 \n",
    "wine['quality']=label_quality.fit_transform(wine['quality'])"
   ]
  },
  {
   "cell_type": "code",
   "execution_count": null,
   "metadata": {},
   "outputs": [],
   "source": [
    "wine['quality'].value_counts()"
   ]
  },
  {
   "cell_type": "code",
   "execution_count": null,
   "metadata": {},
   "outputs": [],
   "source": [
    "sns.countplot(wine['quality'])"
   ]
  },
  {
   "cell_type": "code",
   "execution_count": null,
   "metadata": {},
   "outputs": [],
   "source": [
    "#it is clear that mostly chlorides present in between the alcohol range between 9 to 13 and chloride percentage is 10% to 20%\n",
    "plt.scatter(wine['chlorides'],wine['alcohol'],cmap='orange')"
   ]
  },
  {
   "cell_type": "code",
   "execution_count": null,
   "metadata": {},
   "outputs": [],
   "source": [
    "# Check correlation\n",
    "\n",
    "sns.heatmap(wine.corr())"
   ]
  },
  {
   "cell_type": "code",
   "execution_count": null,
   "metadata": {},
   "outputs": [],
   "source": [
    "# density has a strong positive correlation with residual sugar, whereas it has a strong negative correlation with alcohol.\n",
    "# pH & fixed acidity has negative correlation.\n",
    "# density & fixed acidity has positive correlation.\n",
    "# citric acid & fixed acidity has positive correlation.\n",
    "# citric acid & volatile acidity has negative correlation.\n",
    "# free sulphur dioxide & total sulphur dioxide has positive correlation.\n"
   ]
  },
  {
   "cell_type": "code",
   "execution_count": null,
   "metadata": {},
   "outputs": [],
   "source": [
    "#Drop pH column\n",
    "wine.drop('pH',axis=1,inplace=True)"
   ]
  },
  {
   "cell_type": "code",
   "execution_count": null,
   "metadata": {},
   "outputs": [],
   "source": [
    "# Distribution plots\n",
    "\n",
    "# The Chlorides range in between (0.0–0.1) quality of wine is high and at chloride value 0.5, \n",
    "# the quality of wine is reduced\n",
    "\n",
    "# If Chlorides range increases, the quality of wine is decreases .\n",
    "\n",
    "# quality of wine in between alcohol range (9–12) is high\n",
    "\n",
    "sns.FacetGrid(wine,hue='quality',height=5).map(sns.distplot,'chlorides').add_legend()\n",
    "sns.FacetGrid(wine,hue='quality',height=6).map(sns.distplot,'alcohol').add_legend()"
   ]
  },
  {
   "cell_type": "code",
   "execution_count": null,
   "metadata": {},
   "outputs": [],
   "source": [
    "#boxplot for to check outliers\n",
    "sns.boxplot(x='quality',y='citric acid',data=wine)"
   ]
  },
  {
   "cell_type": "code",
   "execution_count": null,
   "metadata": {},
   "outputs": [],
   "source": [
    "sns.pairplot(wine ,hue ='quality', vars =['fixed acidity','volatile acidity', 'citric acid', 'residual sugar',\n",
    " 'chlorides', 'free sulfur dioxide', 'total sulfur dioxide', 'density',\n",
    " 'sulphates', 'alcohol'])\n",
    "\n",
    "# Light shades are highly correlated\n",
    "# quality is highly correlated with alcohol\n",
    "# alcohol is highly negatively correlated with density -0.5\n",
    "# density is highly positively correlated with residual sugar\n",
    "# volatile acidity is negatively correlated with quality\n",
    "# free sulphuric acid is highly correlated with total sulfur dioxide"
   ]
  },
  {
   "cell_type": "code",
   "execution_count": null,
   "metadata": {},
   "outputs": [],
   "source": [
    "# heat map to view correlated values\n",
    "corr = wine.corr()\n",
    "plt.subplots(figsize=(15,10))\n",
    "sns.heatmap(corr, xticklabels=corr.columns, yticklabels=corr.columns, annot=True, cmap=sns.diverging_palette(220, 20, as_cmap=True))\n",
    "\n",
    "# Darker shades are highly correlated\n",
    "# quality is highly correlated with alcohol\n",
    "# alcohol is negatively correlated with density -0.5\n",
    "# density is highly positively correlated with fixed acidity\n",
    "# volatile acidity is negatively correlated with quality adn citric acid\n",
    "# free sulphuric acid is highly correlated with total sulfur dioxide"
   ]
  },
  {
   "cell_type": "code",
   "execution_count": null,
   "metadata": {},
   "outputs": [],
   "source": [
    "#Identification and Removal of Outliers\n",
    "#  we can observe that there is a lot of outliers present .\n",
    "wine['fixed acidity'].plot.box()"
   ]
  },
  {
   "cell_type": "code",
   "execution_count": null,
   "metadata": {},
   "outputs": [],
   "source": [
    "#There are lots of outliers present and need to be removed those outliers\n",
    "collist=wine.columns.values\n",
    "ncol=12\n",
    "nrows=10\n",
    "plt.figure(figsize=(ncol,5*ncol))\n",
    "for i in range(1,len(collist)):\n",
    " plt.subplot(nrows,ncol,i+1)\n",
    " sns.boxplot(wine[collist[i]],color='green',orient='v')\n",
    " plt.tight_layout()"
   ]
  },
  {
   "cell_type": "code",
   "execution_count": null,
   "metadata": {},
   "outputs": [],
   "source": [
    "#Removing Outliers\n",
    "from scipy.stats import zscore\n",
    "z=np.abs(zscore(wine))\n",
    "z\n",
    "threshold=3\n",
    "np.where(z>3)"
   ]
  },
  {
   "cell_type": "code",
   "execution_count": null,
   "metadata": {},
   "outputs": [],
   "source": [
    "# View shape\n",
    "wine_new=wine[(z<3).all(axis=1)]\n",
    "wine_new.shape"
   ]
  },
  {
   "cell_type": "code",
   "execution_count": null,
   "metadata": {},
   "outputs": [],
   "source": [
    "# view new data\n",
    "wine_new.head()"
   ]
  },
  {
   "cell_type": "code",
   "execution_count": null,
   "metadata": {},
   "outputs": [],
   "source": [
    "#Distribution of Skewness\n",
    "plt.figure(figsize=(20,20))\n",
    "for i in range(0,len(collist)):\n",
    " plt.subplot(nrows,ncol,i+1)\n",
    " sns.distplot(wine_new[collist[i]])"
   ]
  },
  {
   "cell_type": "code",
   "execution_count": null,
   "metadata": {},
   "outputs": [],
   "source": [
    "#Density and Sulphates and fixed acidity are normally distributed .\n",
    "wine_new.skew()"
   ]
  },
  {
   "cell_type": "code",
   "execution_count": null,
   "metadata": {},
   "outputs": [],
   "source": [
    "#we can see x and y, y is the target varible and quality feature is assigned to y and all other features \n",
    "#are assigned to x..\n",
    "x=wine_new.iloc[:,:-1]\n",
    "y=wine_new.iloc[:,-1]"
   ]
  },
  {
   "cell_type": "code",
   "execution_count": null,
   "metadata": {},
   "outputs": [],
   "source": [
    "#removal of skew-ness using log function\n",
    "for col in x.columns:\n",
    " if x.skew().loc[col]>0.55:\n",
    "     x[col]=np.log1p(x[col])"
   ]
  },
  {
   "cell_type": "code",
   "execution_count": null,
   "metadata": {},
   "outputs": [],
   "source": [
    "#only density data is normally distributed\n",
    "#other independent variables are right skewed or positively skewed\n",
    "x.skew()"
   ]
  },
  {
   "cell_type": "markdown",
   "metadata": {},
   "source": [
    "# Building a Machine Learning Model"
   ]
  },
  {
   "cell_type": "code",
   "execution_count": null,
   "metadata": {},
   "outputs": [],
   "source": [
    "\n",
    "x_train,x_test,y_train,y_test=train_test_split(x,y,test_size=0.2,random_state=43)"
   ]
  },
  {
   "cell_type": "code",
   "execution_count": null,
   "metadata": {},
   "outputs": [],
   "source": [
    "#Applying Standard Scaling to get optimized result\n",
    "sc=StandardScaler()\n",
    "x_train=sc.fit_transform(x_train)\n",
    "x_test=sc.fit_transform(x_test)"
   ]
  },
  {
   "cell_type": "code",
   "execution_count": null,
   "metadata": {},
   "outputs": [],
   "source": [
    "#Applying Machine Learning Algorithms\n",
    "lg=LogisticRegression()\n",
    "gnb = GaussianNB()\n",
    "\n",
    "#prepare models\n",
    "models=[]\n",
    "models.append(('LogisticRegression',lg))\n",
    "models.append(('Naive Bayes',gnb))\n",
    "\n",
    "#evaluate each model\n",
    "Model=[]\n",
    "cvs=[]\n",
    "score=[]\n",
    "rocscore=[]\n",
    "for name,model in models:\n",
    " print('**************',name,'***********')\n",
    " print('\\n')\n",
    " Model.append(name)\n",
    " model.fit(x_train,y_train)\n",
    " print(model)\n",
    " predictions=model.predict(x_test)\n",
    " print('\\n')\n",
    " acc=accuracy_score(y_test,pred)\n",
    " print('accuracy score',acc)\n",
    " score.append(acc*100)\n",
    " cv=model_selection.cross_val_score(model,x,y,cv=10,scoring='accuracy').mean()\n",
    " print('Cross-val-score=',cv)\n",
    " cvs.append(cv*100)\n",
    " print('\\n')\n",
    " false_positive_rate,true_positive_rate,thresholds=roc_curve(y_test,pred)\n",
    " roc_auc=roc_auc_score(y_test,pred)\n",
    " print('roc_auc_score',roc_auc)\n",
    " rocscore.append(roc_auc*100)\n",
    " print('\\n')\n",
    " print(classification_report(y_test,pred))\n",
    " print('\\n')\n",
    " cm=confusion_matrix(y_test,pred)\n",
    " print(cm)\n",
    " print('\\n')\n",
    " plt.figure(figsize=(10,15))\n",
    " plt.subplot(911)\n",
    " plt.title(name)\n",
    " print(sns.heatmap(cm,annot=True))\n",
    " plt.subplot(912)\n",
    " plt.title(name)\n",
    " plt.plot(false_positive_rate,true_positive_rate,label='AUC'%roc_auc)\n",
    " plt.plot([0,1],[0,1],'k--')\n",
    " plt.xlabel('false_positive_rate')\n",
    " plt.ylabel('true_positive_rate')\n",
    " plt.show()"
   ]
  },
  {
   "cell_type": "code",
   "execution_count": null,
   "metadata": {},
   "outputs": [],
   "source": [
    "#Selecting Best Model\n",
    "# From above table we can observe the accuracy for both Logistic Regression and Naive Bayes is 92%.This looks like a good score.\n",
    "# And Logistic Regression model has a higher Cross-val-score of 87%.\n",
    "# Overall performance of either of the Logistic Regression algorithm is good."
   ]
  },
  {
   "cell_type": "code",
   "execution_count": null,
   "metadata": {},
   "outputs": [],
   "source": [
    "#Show Mean Absolute Error, Mean Squared Error & Root Mean Squared Error \n",
    "from sklearn import metrics\n",
    "print('MAE:', metrics.mean_absolute_error(y_test, predictions))\n",
    "print('MSE:', metrics.mean_squared_error(y_test, predictions))\n",
    "print('RMSE:', np.sqrt(metrics.mean_squared_error(y_test, predictions)))"
   ]
  },
  {
   "cell_type": "code",
   "execution_count": null,
   "metadata": {},
   "outputs": [],
   "source": [
    "print(lg.intercept_)"
   ]
  },
  {
   "cell_type": "code",
   "execution_count": null,
   "metadata": {},
   "outputs": [],
   "source": [
    "# Show R squared value for regression\n",
    "print('R squared value: ',lg.score(x_train,y_train))"
   ]
  },
  {
   "cell_type": "code",
   "execution_count": null,
   "metadata": {},
   "outputs": [],
   "source": [
    "# Correlation\n",
    "print('Correlation: ', math.sqrt(lg.score(x_train,y_train)))"
   ]
  },
  {
   "cell_type": "code",
   "execution_count": null,
   "metadata": {},
   "outputs": [],
   "source": [
    "#Predicting Values Logistic Regression\n",
    "lg.fit(x_train,y_train)\n",
    "predictions=lg.predict(x_test)\n",
    "print('predicted :',pred)\n",
    "print('actual',y_test)"
   ]
  },
  {
   "cell_type": "code",
   "execution_count": null,
   "metadata": {},
   "outputs": [],
   "source": [
    "predictions = lg.predict(x_test)\n",
    "pd.DataFrame({\"Prediction\": predictions, \"Actual\": y_test})"
   ]
  },
  {
   "cell_type": "markdown",
   "metadata": {},
   "source": [
    "# Saving Model"
   ]
  },
  {
   "cell_type": "code",
   "execution_count": null,
   "metadata": {},
   "outputs": [],
   "source": [
    "# Save the model to disk\n",
    "filename = 'finalized_model.sav'\n",
    "pickle.dump(model, open(filename, 'wb'))\n",
    "\n",
    "# load the model from disk\n",
    "loaded_model = pickle.load(open(filename, 'rb'))\n",
    "\n",
    "#use the loaded model to make prediction\n",
    "result = loaded_model.predict(x_test)\n",
    "result_accuracy = loaded_model.score(x_test, y_test)\n",
    "\n",
    "print(result)\n",
    "print(result_accuracy)\n",
    "\n",
    "\n",
    "# An estimate of the accuracy of the model on unseen data is reported"
   ]
  },
  {
   "cell_type": "code",
   "execution_count": null,
   "metadata": {},
   "outputs": [],
   "source": [
    "#save model using joblib\n",
    "from sklearn.externals import joblib\n",
    "\n",
    "#save the model in a file\n",
    "joblib.dump(rfc,'quality of wine.obj')\n",
    "\n",
    "#load the model from a file\n",
    "lg_from_joblib=joblib.load('quality of wine.obj')\n",
    "\n",
    "#use the loaded model to make prediction\n",
    "lg_from_joblib.predict(x_test)"
   ]
  },
  {
   "cell_type": "code",
   "execution_count": null,
   "metadata": {},
   "outputs": [],
   "source": []
  }
 ],
 "metadata": {
  "kernelspec": {
   "display_name": "Python 3",
   "language": "python",
   "name": "python3"
  },
  "language_info": {
   "codemirror_mode": {
    "name": "ipython",
    "version": 3
   },
   "file_extension": ".py",
   "mimetype": "text/x-python",
   "name": "python",
   "nbconvert_exporter": "python",
   "pygments_lexer": "ipython3",
   "version": "3.7.4"
  }
 },
 "nbformat": 4,
 "nbformat_minor": 2
}

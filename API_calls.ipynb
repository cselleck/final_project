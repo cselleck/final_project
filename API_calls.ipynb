{
 "cells": [
  {
   "cell_type": "code",
   "execution_count": 4,
   "metadata": {},
   "outputs": [],
   "source": [
    "# Dependencies\n",
    "import pandas as pd\n",
    "import requests\n",
    "import time\n",
    "from datetime import date\n",
    "import datetime as dt\n",
    "from bs4 import BeautifulSoup as bs\n",
    "import re\n",
    "from splinter import Browser\n",
    "from selenium import webdriver\n",
    "from splinter.exceptions import ElementDoesNotExist\n",
    "from selenium.webdriver.common.by import By\n",
    "from selenium.webdriver import ActionChains\n",
    "from selenium.webdriver.support.ui import WebDriverWait\n",
    "from selenium.webdriver.common.by import By\n",
    "from selenium.webdriver.support import expected_conditions as EC\n",
    "from selenium.webdriver.common.action_chains import ActionChains"
   ]
  },
  {
   "cell_type": "code",
   "execution_count": 2,
   "metadata": {},
   "outputs": [
    {
     "name": "stderr",
     "output_type": "stream",
     "text": [
      "which: no chromedriver in (/c/Users/clayt/AppData/Roaming/Python/Python37/site-packages/pywin32_system32:/c/Users/clayt/AppData/Roaming/Python/Python37/site-packages/pywin32_system32:/c/Users/clayt/AppData/Roaming/Python/Python37/site-packages/pywin32_system32:/c/Users/clayt/bin:/mingw64/bin:/usr/local/bin:/usr/bin:/usr/bin:/mingw64/bin:/usr/bin:/c/Users/clayt/bin:/c/Program Files/Tableau/Tableau Server/packages/bin.20202.20.0614.2338:/c/windows/system32:/c/windows:/c/windows/System32/Wbem:/c/windows/System32/WindowsPowerShell/v1.0:/c/windows/System32/OpenSSH:/c/Program Files (x86)/NVIDIA Corporation/PhysX/Common:/c/Program Files/NVIDIA Corporation/NVIDIA NvDLISR:/cmd:/c/Users/clayt/Anaconda3:/c/Users/clayt/Anaconda3/Library/mingw-w64/bin:/c/Users/clayt/Anaconda3/Library/usr/bin:/c/Users/clayt/Anaconda3/Library/bin:/c/Users/clayt/Anaconda3/Scripts:/c/Users/clayt/AppData/Local/Microsoft/WindowsApps:/c/Users/clayt/AppData/Local/Programs/Microsoft VS Code/bin:/c/Users/clayt/AppData/Local/atom/bin:/c/Users/clayt/AppData/Local/GitHubDesktop/bin:/c/Program Files/heroku/bin:/c/Users/clayt/AppData/Local/Pandoc:/usr/bin/vendor_perl:/usr/bin/core_perl)\n"
     ]
    }
   ],
   "source": [
    "#https://splinter.readthedocs.io/en/latest/drivers/chrome.html\n",
    "!which chromedriver"
   ]
  },
  {
   "cell_type": "code",
   "execution_count": 11,
   "metadata": {},
   "outputs": [],
   "source": [
    "total_response = []"
   ]
  },
  {
   "cell_type": "code",
   "execution_count": 12,
   "metadata": {},
   "outputs": [],
   "source": [
    "url = \"https://contextualwebsearch-websearch-v1.p.rapidapi.com/api/Search/NewsSearchAPI\"\n",
    "\n",
    "\n",
    "\n",
    "querystring = {\"autoCorrect\":\"false\",\"pageNumber\":\"1\",\"pageSize\":\"50\",\"q\":\"Trump\",\"safeSearch\":\"false\"}\n",
    "\n",
    "headers = {\n",
    "    'x-rapidapi-host': \"contextualwebsearch-websearch-v1.p.rapidapi.com\",\n",
    "    'x-rapidapi-key': \"486e8e3065msh602bb2f200944d8p14f31fjsn19c776e43453\"\n",
    "    }\n",
    "\n",
    "response = requests.request(\"GET\", url, headers=headers, params=querystring)\n",
    "total_response.append(response)"
   ]
  },
  {
   "cell_type": "raw",
   "metadata": {},
   "source": [
    "response"
   ]
  },
  {
   "cell_type": "code",
   "execution_count": 8,
   "metadata": {},
   "outputs": [
    {
     "name": "stdout",
     "output_type": "stream",
     "text": [
      "{\"message\":\"You are not subscribed to this API.\"}\n"
     ]
    }
   ],
   "source": [
    "print(response.text)"
   ]
  },
  {
   "cell_type": "code",
   "execution_count": null,
   "metadata": {},
   "outputs": [],
   "source": []
  }
 ],
 "metadata": {
  "kernelspec": {
   "display_name": "Python 3",
   "language": "python",
   "name": "python3"
  },
  "language_info": {
   "codemirror_mode": {
    "name": "ipython",
    "version": 3
   },
   "file_extension": ".py",
   "mimetype": "text/x-python",
   "name": "python",
   "nbconvert_exporter": "python",
   "pygments_lexer": "ipython3",
   "version": "3.7.4"
  }
 },
 "nbformat": 4,
 "nbformat_minor": 2
}
